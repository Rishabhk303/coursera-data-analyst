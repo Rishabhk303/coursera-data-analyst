{
  "cells": [
    {
      "cell_type": "markdown",
      "metadata": {
        "id": "EPCcZ5AUSr0s"
      },
      "source": [
        "<center>\n",
        "    <img src=\"https://s3-api.us-geo.objectstorage.softlayer.net/cf-courses-data/CognitiveClass/Logos/organization_logo/organization_logo.png\" width=\"300\" alt=\"cognitiveclass.ai logo\"  />\n",
        "</center>\n",
        "\n",
        "# Working with a real world data-set using SQL and Python\n",
        "\n",
        "Estaimted time needed: **30** minutes\n",
        "\n",
        "## Objectives\n",
        "\n",
        "After complting this lab you will be able to:\n",
        "\n",
        "*   Understand the dataset for Chicago Public School level performance\n",
        "*   Store the dataset in SQLite database.\n",
        "*   Retrieve metadata about tables and columns and query data from mixed case columns\n",
        "*   Solve example problems to practice your SQL skills including using built-in database functions\n"
      ]
    },
    {
      "cell_type": "markdown",
      "metadata": {
        "id": "sgYhvXTHSr0v"
      },
      "source": [
        "## Chicago Public Schools - Progress Report Cards (2011-2012)\n",
        "\n",
        "The city of Chicago released a dataset showing all school level performance data used to create School Report Cards for the 2011-2012 school year. The dataset is available from the Chicago Data Portal: [https://data.cityofchicago.org/Education/Chicago-Public-Schools-Progress-Report-Cards-2011-/9xs2-f89t](https://data.cityofchicago.org/Education/Chicago-Public-Schools-Progress-Report-Cards-2011-/9xs2-f89t?utm_medium=Exinfluencer&utm_source=Exinfluencer&utm_content=000026UJ&utm_term=10006555&utm_id=NA-SkillsNetwork-Channel-SkillsNetworkCoursesIBMDeveloperSkillsNetworkDB0201ENSkillsNetwork20127838-2021-01-01&cm_mmc=Email_Newsletter-\\_-Developer_Ed%2BTech-\\_-WW_WW-\\_-SkillsNetwork-Courses-IBMDeveloperSkillsNetwork-DB0201EN-SkillsNetwork-20127838&cm_mmca1=000026UJ&cm_mmca2=10006555&cm_mmca3=M12345678&cvosrc=email.Newsletter.M12345678&cvo_campaign=000026UJ)\n",
        "\n",
        "This dataset includes a large number of metrics. Start by familiarizing yourself with the types of metrics in the database: [https://data.cityofchicago.org/api/assets/AAD41A13-BE8A-4E67-B1F5-86E711E09D5F?download=true](https://data.cityofchicago.org/api/assets/AAD41A13-BE8A-4E67-B1F5-86E711E09D5F?utm_medium=Exinfluencer&utm_source=Exinfluencer&utm_content=000026UJ&utm_term=10006555&utm_id=NA-SkillsNetwork-Channel-SkillsNetworkCoursesIBMDeveloperSkillsNetworkDB0201ENSkillsNetwork20127838-2021-01-01&download=true&cm_mmc=Email_Newsletter-\\_-Developer_Ed%2BTech-\\_-WW_WW-\\_-SkillsNetwork-Courses-IBMDeveloperSkillsNetwork-DB0201EN-SkillsNetwork-20127838&cm_mmca1=000026UJ&cm_mmca2=10006555&cm_mmca3=M12345678&cvosrc=email.Newsletter.M12345678&cvo_campaign=000026UJ)\n",
        "\n",
        "**NOTE**:\n",
        "\n",
        "Do not download the dataset directly from City of Chicago portal. Instead download a static copy which is a more database friendly version from this <a href=\"https://cf-courses-data.s3.us.cloud-object-storage.appdomain.cloud/IBMDeveloperSkillsNetwork-DB0201EN-SkillsNetwork/labs/FinalModule_Coursera_V5/data/ChicagoPublicSchools.csv?utm_medium=Exinfluencer&utm_source=Exinfluencer&utm_content=000026UJ&utm_term=10006555&utm_id=NA-SkillsNetwork-Channel-SkillsNetworkCoursesIBMDeveloperSkillsNetworkDB0201ENSkillsNetwork20127838-2021-01-01\">link</a>.\n",
        "\n",
        "Now review some of its contents.\n"
      ]
    },
    {
      "cell_type": "markdown",
      "metadata": {
        "id": "4Lqo_46qSr0w"
      },
      "source": [
        "### Connect to the database\n",
        "\n",
        "Let us now load the ipython-sql  extension and establish a connection with the database\n",
        "\n",
        "##### The syntax for connecting to magic sql using sqllite is\n",
        "\n",
        "**%sql sqlite://DatabaseName**\n",
        "\n",
        "where DatabaseName will be your **.db** file\n"
      ]
    },
    {
      "cell_type": "code",
      "execution_count": 4,
      "metadata": {
        "id": "BZVOqe05Sr0x"
      },
      "outputs": [],
      "source": [
        "import csv, sqlite3\n",
        "\n",
        "con = sqlite3.connect(\"RealWorldData.db\")\n",
        "cur = con.cursor()"
      ]
    },
    {
      "cell_type": "code",
      "execution_count": 20,
      "metadata": {
        "colab": {
          "base_uri": "https://localhost:8080/",
          "height": 398
        },
        "id": "8nGIFkLXSr0y",
        "outputId": "0a436668-e8e3-4922-fdae-b4d9a8b7ba27"
      },
      "outputs": [
        {
          "output_type": "stream",
          "name": "stdout",
          "text": [
            "Looking in indexes: https://pypi.org/simple, https://us-python.pkg.dev/colab-wheels/public/simple/\n",
            "Collecting SQLAlchemy==1.4.4\n",
            "  Downloading SQLAlchemy-1.4.4.tar.gz (7.5 MB)\n",
            "\u001b[2K     \u001b[90m━━━━━━━━━━━━━━━━━━━━━━━━━━━━━━━━━━━━━━━━\u001b[0m \u001b[32m7.5/7.5 MB\u001b[0m \u001b[31m55.8 MB/s\u001b[0m eta \u001b[36m0:00:00\u001b[0m\n",
            "\u001b[?25h  Preparing metadata (setup.py) ... \u001b[?25l\u001b[?25hdone\n",
            "Requirement already satisfied: greenlet!=0.4.17 in /usr/local/lib/python3.10/dist-packages (from SQLAlchemy==1.4.4) (2.0.2)\n",
            "Building wheels for collected packages: SQLAlchemy\n",
            "  Building wheel for SQLAlchemy (setup.py) ... \u001b[?25l\u001b[?25hdone\n",
            "  Created wheel for SQLAlchemy: filename=SQLAlchemy-1.4.4-cp310-cp310-linux_x86_64.whl size=1513231 sha256=8b9419c26dbafd24bf7cd672307ee4b6d0ac6b509a46d4ff914a0c5df35d1fbb\n",
            "  Stored in directory: /root/.cache/pip/wheels/af/c3/55/803261c43577195a922fd6aead99e6b4ed9be457dee35a1600\n",
            "Successfully built SQLAlchemy\n",
            "Installing collected packages: SQLAlchemy\n",
            "  Attempting uninstall: SQLAlchemy\n",
            "    Found existing installation: SQLAlchemy 2.0.16\n",
            "    Uninstalling SQLAlchemy-2.0.16:\n",
            "      Successfully uninstalled SQLAlchemy-2.0.16\n",
            "Successfully installed SQLAlchemy-1.4.4\n"
          ]
        },
        {
          "output_type": "display_data",
          "data": {
            "application/vnd.colab-display-data+json": {
              "pip_warning": {
                "packages": [
                  "sqlalchemy"
                ]
              }
            }
          },
          "metadata": {}
        }
      ],
      "source": [
        "!pip install SQLAlchemy==1.4.4"
      ]
    },
    {
      "cell_type": "code",
      "execution_count": 1,
      "metadata": {
        "id": "y_QoS2JsSr0z"
      },
      "outputs": [],
      "source": [
        "%load_ext sql"
      ]
    },
    {
      "cell_type": "code",
      "execution_count": 5,
      "metadata": {
        "id": "7nEQ9Ip2Sr0z"
      },
      "outputs": [],
      "source": [
        "%sql sqlite:///RealWorldData.db"
      ]
    },
    {
      "cell_type": "markdown",
      "metadata": {
        "id": "6QBgSc9ASr00"
      },
      "source": [
        "### Store the dataset in a Table\n",
        "\n",
        "##### In many cases the dataset to be analyzed is available as a .CSV (comma separated values) file, perhaps on the internet. To analyze the data\n",
        "\n",
        "##### using SQL, it first needs to be stored in the database.\n",
        "\n",
        "##### We will first read the csv files  from the given url  into pandas dataframes\n",
        "\n",
        "##### Next we will be using the  df.to_sql() function to convert each csv file  to a table in sqlite  with the csv data loaded in it.\n"
      ]
    },
    {
      "cell_type": "code",
      "execution_count": 6,
      "metadata": {
        "colab": {
          "base_uri": "https://localhost:8080/"
        },
        "id": "nkXNDS_QSr00",
        "outputId": "5cedfb88-68d8-47a9-eb4b-541b13804099"
      },
      "outputs": [
        {
          "output_type": "execute_result",
          "data": {
            "text/plain": [
              "566"
            ]
          },
          "metadata": {},
          "execution_count": 6
        }
      ],
      "source": [
        "import pandas\n",
        "df = pandas.read_csv(\"https://cf-courses-data.s3.us.cloud-object-storage.appdomain.cloud/IBMDeveloperSkillsNetwork-DB0201EN-SkillsNetwork/labs/FinalModule_Coursera_V5/data/ChicagoPublicSchools.csv\")\n",
        "df.to_sql(\"CHICAGO_PUBLIC_SCHOOLS_DATA\", con, if_exists='replace', index=False, method=\"multi\")\n"
      ]
    },
    {
      "cell_type": "code",
      "source": [
        "import pandas\n",
        "df = pandas.read_csv(\"https://cf-courses-data.s3.us.cloud-object-storage.appdomain.cloud/IBMDeveloperSkillsNetwork-DB0201EN-SkillsNetwork/labs/FinalModule_Coursera_V5/data/ChicagoCensusData.csv\")\n",
        "df.to_sql(\"CENSUS_DATA\", con, if_exists='replace', index=False,method=\"multi\")\n"
      ],
      "metadata": {
        "colab": {
          "base_uri": "https://localhost:8080/"
        },
        "id": "LMfPSYH6Una9",
        "outputId": "c7a88ccc-2372-4b37-d48f-a9a7ed32eb1f"
      },
      "execution_count": 7,
      "outputs": [
        {
          "output_type": "execute_result",
          "data": {
            "text/plain": [
              "78"
            ]
          },
          "metadata": {},
          "execution_count": 7
        }
      ]
    },
    {
      "cell_type": "code",
      "source": [
        "import pandas\n",
        "df = pandas.read_csv(\"https://cf-courses-data.s3.us.cloud-object-storage.appdomain.cloud/IBMDeveloperSkillsNetwork-DB0201EN-SkillsNetwork/labs/FinalModule_Coursera_V5/data/ChicagoCrimeData.csv\")\n",
        "df.to_sql(\"CHICAGO_CRIME_DATA\", con, if_exists='replace', index=False, method=\"multi\")"
      ],
      "metadata": {
        "colab": {
          "base_uri": "https://localhost:8080/"
        },
        "id": "DDJANgvRUnJl",
        "outputId": "0d630ebf-134c-4912-c4fb-a57f28bee534"
      },
      "execution_count": 8,
      "outputs": [
        {
          "output_type": "execute_result",
          "data": {
            "text/plain": [
              "533"
            ]
          },
          "metadata": {},
          "execution_count": 8
        }
      ]
    },
    {
      "cell_type": "markdown",
      "metadata": {
        "id": "SOfMZO2PSr02"
      },
      "source": [
        "### Query the database system catalog to retrieve table metadata\n",
        "\n",
        "##### You can verify that the table creation was successful by retrieving the list of all tables in your schema and checking whether the SCHOOLS table was created\n"
      ]
    },
    {
      "cell_type": "code",
      "execution_count": 9,
      "metadata": {
        "colab": {
          "base_uri": "https://localhost:8080/",
          "height": 137
        },
        "id": "IJcwYCXKSr02",
        "outputId": "abeeeb27-6781-4719-8674-95b102fa192b"
      },
      "outputs": [
        {
          "output_type": "stream",
          "name": "stdout",
          "text": [
            " * sqlite:///RealWorldData.db\n",
            "Done.\n"
          ]
        },
        {
          "output_type": "execute_result",
          "data": {
            "text/plain": [
              "[('CHICAGO_PUBLIC_SCHOOLS_DATA',), ('CENSUS_DATA',), ('CHICAGO_CRIME_DATA',)]"
            ],
            "text/html": [
              "<table>\n",
              "    <tr>\n",
              "        <th>name</th>\n",
              "    </tr>\n",
              "    <tr>\n",
              "        <td>CHICAGO_PUBLIC_SCHOOLS_DATA</td>\n",
              "    </tr>\n",
              "    <tr>\n",
              "        <td>CENSUS_DATA</td>\n",
              "    </tr>\n",
              "    <tr>\n",
              "        <td>CHICAGO_CRIME_DATA</td>\n",
              "    </tr>\n",
              "</table>"
            ]
          },
          "metadata": {},
          "execution_count": 9
        }
      ],
      "source": [
        "%sql SELECT name FROM sqlite_master WHERE type='table'"
      ]
    },
    {
      "cell_type": "markdown",
      "metadata": {
        "id": "95sWjmnGSr03"
      },
      "source": [
        "### Query the database system catalog to retrieve column metadata\n",
        "\n",
        "##### The SCHOOLS table contains a large number of columns. How many columns does this table have?\n"
      ]
    },
    {
      "cell_type": "code",
      "execution_count": 10,
      "metadata": {
        "scrolled": true,
        "colab": {
          "base_uri": "https://localhost:8080/",
          "height": 95
        },
        "id": "ApujjJA8Sr03",
        "outputId": "aef52c1c-8351-4afb-d733-b9a967c88883"
      },
      "outputs": [
        {
          "output_type": "stream",
          "name": "stdout",
          "text": [
            " * sqlite:///RealWorldData.db\n",
            "Done.\n"
          ]
        },
        {
          "output_type": "execute_result",
          "data": {
            "text/plain": [
              "[(0,)]"
            ],
            "text/html": [
              "<table>\n",
              "    <tr>\n",
              "        <th>count(name)</th>\n",
              "    </tr>\n",
              "    <tr>\n",
              "        <td>0</td>\n",
              "    </tr>\n",
              "</table>"
            ]
          },
          "metadata": {},
          "execution_count": 10
        }
      ],
      "source": [
        "%sql SELECT count(name) FROM PRAGMA_TABLE_INFO('ChicagoPublicSchools');"
      ]
    },
    {
      "cell_type": "markdown",
      "metadata": {
        "id": "IFqF47nISr03"
      },
      "source": [
        "Now retrieve the the list of columns in SCHOOLS table and their column type (datatype) and length.\n"
      ]
    },
    {
      "cell_type": "code",
      "execution_count": 13,
      "metadata": {
        "scrolled": false,
        "colab": {
          "base_uri": "https://localhost:8080/",
          "height": 74
        },
        "id": "x2RZuxqqSr04",
        "outputId": "2da8094d-3e19-4057-a116-fc380edd0880"
      },
      "outputs": [
        {
          "output_type": "stream",
          "name": "stdout",
          "text": [
            " * sqlite:///RealWorldData.db\n",
            "Done.\n"
          ]
        },
        {
          "output_type": "execute_result",
          "data": {
            "text/plain": [
              "[]"
            ],
            "text/html": [
              "<table>\n",
              "    <tr>\n",
              "        <th>name</th>\n",
              "        <th>typeof(name)</th>\n",
              "        <th>length(name)</th>\n",
              "    </tr>\n",
              "</table>"
            ]
          },
          "metadata": {},
          "execution_count": 13
        }
      ],
      "source": [
        "\n",
        "%sql SELECT name,typeof(name),length(name) FROM PRAGMA_TABLE_INFO('ChicagoPublicSchools');"
      ]
    },
    {
      "cell_type": "markdown",
      "metadata": {
        "id": "-AIHg9nFSr04"
      },
      "source": [
        "### Questions\n",
        "\n",
        "1.  Is the column name for the \"SCHOOL ID\" attribute in upper or mixed case?\n",
        "2.  What is the name of \"Community Area Name\" column in your table? Does it have spaces?\n",
        "3.  Are there any columns in whose names the spaces and paranthesis (round brackets) have been replaced by the underscore character \"\\_\"?\n"
      ]
    },
    {
      "cell_type": "markdown",
      "metadata": {
        "id": "2MTtNvSoSr04"
      },
      "source": [
        "## Problems\n",
        "\n",
        "### Problem 1\n",
        "\n",
        "##### How many Elementary Schools are in the dataset?\n"
      ]
    },
    {
      "cell_type": "code",
      "execution_count": 15,
      "metadata": {
        "colab": {
          "base_uri": "https://localhost:8080/",
          "height": 95
        },
        "id": "EtuKGl5zSr04",
        "outputId": "5fed90c9-6481-4443-c681-25bf29e2a5d7"
      },
      "outputs": [
        {
          "output_type": "stream",
          "name": "stdout",
          "text": [
            " * sqlite:///RealWorldData.db\n",
            "Done.\n"
          ]
        },
        {
          "output_type": "execute_result",
          "data": {
            "text/plain": [
              "[(462,)]"
            ],
            "text/html": [
              "<table>\n",
              "    <tr>\n",
              "        <th>count(*)</th>\n",
              "    </tr>\n",
              "    <tr>\n",
              "        <td>462</td>\n",
              "    </tr>\n",
              "</table>"
            ]
          },
          "metadata": {},
          "execution_count": 15
        }
      ],
      "source": [
        "%sql select count(*) from CHICAGO_PUBLIC_SCHOOLS_DATA where \"Elementary, Middle, or High School\"='ES'"
      ]
    },
    {
      "cell_type": "markdown",
      "metadata": {
        "id": "2yR2zPerSr05"
      },
      "source": [
        "### Problem 2\n",
        "\n",
        "##### What is the highest Safety Score?\n"
      ]
    },
    {
      "cell_type": "code",
      "execution_count": 17,
      "metadata": {
        "colab": {
          "base_uri": "https://localhost:8080/",
          "height": 95
        },
        "id": "pA7JTBeOSr06",
        "outputId": "ed6713d1-4a2f-4961-8e74-e8bd8a2974df"
      },
      "outputs": [
        {
          "output_type": "stream",
          "name": "stdout",
          "text": [
            " * sqlite:///RealWorldData.db\n",
            "Done.\n"
          ]
        },
        {
          "output_type": "execute_result",
          "data": {
            "text/plain": [
              "[(99.0,)]"
            ],
            "text/html": [
              "<table>\n",
              "    <tr>\n",
              "        <th>MAX_SAFETY_SCORE</th>\n",
              "    </tr>\n",
              "    <tr>\n",
              "        <td>99.0</td>\n",
              "    </tr>\n",
              "</table>"
            ]
          },
          "metadata": {},
          "execution_count": 17
        }
      ],
      "source": [
        "\n",
        "%sql select MAX(Safety_Score) AS MAX_SAFETY_SCORE from CHICAGO_PUBLIC_SCHOOLS_DATA"
      ]
    },
    {
      "cell_type": "markdown",
      "metadata": {
        "id": "UKx4BmcuSr06"
      },
      "source": [
        "### Problem 3\n",
        "\n",
        "##### Which schools have highest Safety Score?\n"
      ]
    },
    {
      "cell_type": "code",
      "execution_count": 20,
      "metadata": {
        "scrolled": true,
        "colab": {
          "base_uri": "https://localhost:8080/",
          "height": 472
        },
        "id": "Tg6KD6F5Sr07",
        "outputId": "63e9fe16-4ae4-4873-84dd-2f5eb3fd0119"
      },
      "outputs": [
        {
          "output_type": "stream",
          "name": "stdout",
          "text": [
            " * sqlite:///RealWorldData.db\n",
            "Done.\n"
          ]
        },
        {
          "output_type": "execute_result",
          "data": {
            "text/plain": [
              "[('Abraham Lincoln Elementary School', 99.0),\n",
              " ('Alexander Graham Bell Elementary School', 99.0),\n",
              " ('Annie Keller Elementary Gifted Magnet School', 99.0),\n",
              " ('Augustus H Burley Elementary School', 99.0),\n",
              " ('Edgar Allan Poe Elementary Classical School', 99.0),\n",
              " ('Edgebrook Elementary School', 99.0),\n",
              " ('Ellen Mitchell Elementary School', 99.0),\n",
              " ('James E McDade Elementary Classical School', 99.0),\n",
              " ('James G Blaine Elementary School', 99.0),\n",
              " ('LaSalle Elementary Language Academy', 99.0),\n",
              " ('Mary E Courtenay Elementary Language Arts Center', 99.0),\n",
              " ('Northside College Preparatory High School', 99.0),\n",
              " ('Northside Learning Center High School', 99.0),\n",
              " ('Norwood Park Elementary School', 99.0),\n",
              " ('Oriole Park Elementary School', 99.0),\n",
              " ('Sauganash Elementary School', 99.0),\n",
              " ('Stephen Decatur Classical Elementary School', 99.0),\n",
              " ('Talman Elementary School', 99.0),\n",
              " ('Wildwood Elementary School', 99.0)]"
            ],
            "text/html": [
              "<table>\n",
              "    <tr>\n",
              "        <th>NAME_OF_SCHOOL</th>\n",
              "        <th>SAFETY_SCORE</th>\n",
              "    </tr>\n",
              "    <tr>\n",
              "        <td>Abraham Lincoln Elementary School</td>\n",
              "        <td>99.0</td>\n",
              "    </tr>\n",
              "    <tr>\n",
              "        <td>Alexander Graham Bell Elementary School</td>\n",
              "        <td>99.0</td>\n",
              "    </tr>\n",
              "    <tr>\n",
              "        <td>Annie Keller Elementary Gifted Magnet School</td>\n",
              "        <td>99.0</td>\n",
              "    </tr>\n",
              "    <tr>\n",
              "        <td>Augustus H Burley Elementary School</td>\n",
              "        <td>99.0</td>\n",
              "    </tr>\n",
              "    <tr>\n",
              "        <td>Edgar Allan Poe Elementary Classical School</td>\n",
              "        <td>99.0</td>\n",
              "    </tr>\n",
              "    <tr>\n",
              "        <td>Edgebrook Elementary School</td>\n",
              "        <td>99.0</td>\n",
              "    </tr>\n",
              "    <tr>\n",
              "        <td>Ellen Mitchell Elementary School</td>\n",
              "        <td>99.0</td>\n",
              "    </tr>\n",
              "    <tr>\n",
              "        <td>James E McDade Elementary Classical School</td>\n",
              "        <td>99.0</td>\n",
              "    </tr>\n",
              "    <tr>\n",
              "        <td>James G Blaine Elementary School</td>\n",
              "        <td>99.0</td>\n",
              "    </tr>\n",
              "    <tr>\n",
              "        <td>LaSalle Elementary Language Academy</td>\n",
              "        <td>99.0</td>\n",
              "    </tr>\n",
              "    <tr>\n",
              "        <td>Mary E Courtenay Elementary Language Arts Center</td>\n",
              "        <td>99.0</td>\n",
              "    </tr>\n",
              "    <tr>\n",
              "        <td>Northside College Preparatory High School</td>\n",
              "        <td>99.0</td>\n",
              "    </tr>\n",
              "    <tr>\n",
              "        <td>Northside Learning Center High School</td>\n",
              "        <td>99.0</td>\n",
              "    </tr>\n",
              "    <tr>\n",
              "        <td>Norwood Park Elementary School</td>\n",
              "        <td>99.0</td>\n",
              "    </tr>\n",
              "    <tr>\n",
              "        <td>Oriole Park Elementary School</td>\n",
              "        <td>99.0</td>\n",
              "    </tr>\n",
              "    <tr>\n",
              "        <td>Sauganash Elementary School</td>\n",
              "        <td>99.0</td>\n",
              "    </tr>\n",
              "    <tr>\n",
              "        <td>Stephen Decatur Classical Elementary School</td>\n",
              "        <td>99.0</td>\n",
              "    </tr>\n",
              "    <tr>\n",
              "        <td>Talman Elementary School</td>\n",
              "        <td>99.0</td>\n",
              "    </tr>\n",
              "    <tr>\n",
              "        <td>Wildwood Elementary School</td>\n",
              "        <td>99.0</td>\n",
              "    </tr>\n",
              "</table>"
            ]
          },
          "metadata": {},
          "execution_count": 20
        }
      ],
      "source": [
        "%sql select Name_of_School, Safety_Score from CHICAGO_PUBLIC_SCHOOLS_DATA where Safety_Score = 99"
      ]
    },
    {
      "cell_type": "markdown",
      "metadata": {
        "id": "ymN6Ji0hSr07"
      },
      "source": [
        "### Problem 4\n",
        "\n",
        "##### What are the top 10 schools with the highest \"Average Student Attendance\"?\n"
      ]
    },
    {
      "cell_type": "code",
      "execution_count": 21,
      "metadata": {
        "colab": {
          "base_uri": "https://localhost:8080/",
          "height": 284
        },
        "id": "_bkmGzeRSr07",
        "outputId": "4647ddf6-7532-4c31-db86-6a8d2e36ab71"
      },
      "outputs": [
        {
          "output_type": "stream",
          "name": "stdout",
          "text": [
            " * sqlite:///RealWorldData.db\n",
            "Done.\n"
          ]
        },
        {
          "output_type": "execute_result",
          "data": {
            "text/plain": [
              "[('John Charles Haines Elementary School', '98.40%'),\n",
              " ('James Ward Elementary School', '97.80%'),\n",
              " ('Edgar Allan Poe Elementary Classical School', '97.60%'),\n",
              " ('Orozco Fine Arts & Sciences Elementary School', '97.60%'),\n",
              " ('Rachel Carson Elementary School', '97.60%'),\n",
              " ('Annie Keller Elementary Gifted Magnet School', '97.50%'),\n",
              " ('Andrew Jackson Elementary Language Academy', '97.40%'),\n",
              " ('Lenart Elementary Regional Gifted Center', '97.40%'),\n",
              " ('Disney II Magnet School', '97.30%'),\n",
              " ('John H Vanderpoel Elementary Magnet School', '97.20%')]"
            ],
            "text/html": [
              "<table>\n",
              "    <tr>\n",
              "        <th>NAME_OF_SCHOOL</th>\n",
              "        <th>AVERAGE_STUDENT_ATTENDANCE</th>\n",
              "    </tr>\n",
              "    <tr>\n",
              "        <td>John Charles Haines Elementary School</td>\n",
              "        <td>98.40%</td>\n",
              "    </tr>\n",
              "    <tr>\n",
              "        <td>James Ward Elementary School</td>\n",
              "        <td>97.80%</td>\n",
              "    </tr>\n",
              "    <tr>\n",
              "        <td>Edgar Allan Poe Elementary Classical School</td>\n",
              "        <td>97.60%</td>\n",
              "    </tr>\n",
              "    <tr>\n",
              "        <td>Orozco Fine Arts &amp; Sciences Elementary School</td>\n",
              "        <td>97.60%</td>\n",
              "    </tr>\n",
              "    <tr>\n",
              "        <td>Rachel Carson Elementary School</td>\n",
              "        <td>97.60%</td>\n",
              "    </tr>\n",
              "    <tr>\n",
              "        <td>Annie Keller Elementary Gifted Magnet School</td>\n",
              "        <td>97.50%</td>\n",
              "    </tr>\n",
              "    <tr>\n",
              "        <td>Andrew Jackson Elementary Language Academy</td>\n",
              "        <td>97.40%</td>\n",
              "    </tr>\n",
              "    <tr>\n",
              "        <td>Lenart Elementary Regional Gifted Center</td>\n",
              "        <td>97.40%</td>\n",
              "    </tr>\n",
              "    <tr>\n",
              "        <td>Disney II Magnet School</td>\n",
              "        <td>97.30%</td>\n",
              "    </tr>\n",
              "    <tr>\n",
              "        <td>John H Vanderpoel Elementary Magnet School</td>\n",
              "        <td>97.20%</td>\n",
              "    </tr>\n",
              "</table>"
            ]
          },
          "metadata": {},
          "execution_count": 21
        }
      ],
      "source": [
        "%sql select Name_of_School, Average_Student_Attendance from CHICAGO_PUBLIC_SCHOOLS_DATA \\\n",
        "    order by Average_Student_Attendance desc nulls last limit 10\n",
        "\n"
      ]
    },
    {
      "cell_type": "markdown",
      "metadata": {
        "id": "VAwyc-f1Sr08"
      },
      "source": [
        "### Problem 5\n",
        "\n",
        "##### Retrieve the list of 5 Schools with the lowest Average Student Attendance sorted in ascending order based on attendance\n"
      ]
    },
    {
      "cell_type": "code",
      "execution_count": 27,
      "metadata": {
        "colab": {
          "base_uri": "https://localhost:8080/",
          "height": 179
        },
        "id": "Vm9EktX3Sr08",
        "outputId": "2b51170d-34ea-4861-e66b-e2d55ee0fbd5"
      },
      "outputs": [
        {
          "output_type": "stream",
          "name": "stdout",
          "text": [
            " * sqlite:///RealWorldData.db\n",
            "Done.\n"
          ]
        },
        {
          "output_type": "execute_result",
          "data": {
            "text/plain": [
              "[('Velma F Thomas Early Childhood Center', None),\n",
              " ('Richard T Crane Technical Preparatory High School', '57.90%'),\n",
              " ('Barbara Vick Early Childhood & Family Center', '60.90%'),\n",
              " ('Dyett High School', '62.50%'),\n",
              " ('Wendell Phillips Academy High School', '63.00%')]"
            ],
            "text/html": [
              "<table>\n",
              "    <tr>\n",
              "        <th>NAME_OF_SCHOOL</th>\n",
              "        <th>AVERAGE_STUDENT_ATTENDANCE</th>\n",
              "    </tr>\n",
              "    <tr>\n",
              "        <td>Velma F Thomas Early Childhood Center</td>\n",
              "        <td>None</td>\n",
              "    </tr>\n",
              "    <tr>\n",
              "        <td>Richard T Crane Technical Preparatory High School</td>\n",
              "        <td>57.90%</td>\n",
              "    </tr>\n",
              "    <tr>\n",
              "        <td>Barbara Vick Early Childhood &amp; Family Center</td>\n",
              "        <td>60.90%</td>\n",
              "    </tr>\n",
              "    <tr>\n",
              "        <td>Dyett High School</td>\n",
              "        <td>62.50%</td>\n",
              "    </tr>\n",
              "    <tr>\n",
              "        <td>Wendell Phillips Academy High School</td>\n",
              "        <td>63.00%</td>\n",
              "    </tr>\n",
              "</table>"
            ]
          },
          "metadata": {},
          "execution_count": 27
        }
      ],
      "source": [
        "%sql SELECT Name_of_School, Average_Student_Attendance  \\\n",
        "     from CHICAGO_PUBLIC_SCHOOLS_DATA \\\n",
        "     order by Average_Student_Attendance \\\n",
        "     LIMIT 5\n"
      ]
    },
    {
      "cell_type": "markdown",
      "metadata": {
        "id": "m5HIxkhzSr1A"
      },
      "source": [
        "### Problem 6\n",
        "\n",
        "##### Now remove the '%' sign from the above result set for Average Student Attendance column\n"
      ]
    },
    {
      "cell_type": "code",
      "execution_count": 26,
      "metadata": {
        "colab": {
          "base_uri": "https://localhost:8080/",
          "height": 179
        },
        "id": "lOS2OoSkSr1B",
        "outputId": "87331733-89aa-4b80-9271-50cd460fd804"
      },
      "outputs": [
        {
          "output_type": "stream",
          "name": "stdout",
          "text": [
            " * sqlite:///RealWorldData.db\n",
            "Done.\n"
          ]
        },
        {
          "output_type": "execute_result",
          "data": {
            "text/plain": [
              "[('Velma F Thomas Early Childhood Center', None),\n",
              " ('Richard T Crane Technical Preparatory High School', '57.90'),\n",
              " ('Barbara Vick Early Childhood & Family Center', '60.90'),\n",
              " ('Dyett High School', '62.50'),\n",
              " ('Wendell Phillips Academy High School', '63.00')]"
            ],
            "text/html": [
              "<table>\n",
              "    <tr>\n",
              "        <th>NAME_OF_SCHOOL</th>\n",
              "        <th>REPLACE(Average_Student_Attendance, &#x27;%&#x27; , &#x27;&#x27; )</th>\n",
              "    </tr>\n",
              "    <tr>\n",
              "        <td>Velma F Thomas Early Childhood Center</td>\n",
              "        <td>None</td>\n",
              "    </tr>\n",
              "    <tr>\n",
              "        <td>Richard T Crane Technical Preparatory High School</td>\n",
              "        <td>57.90</td>\n",
              "    </tr>\n",
              "    <tr>\n",
              "        <td>Barbara Vick Early Childhood &amp; Family Center</td>\n",
              "        <td>60.90</td>\n",
              "    </tr>\n",
              "    <tr>\n",
              "        <td>Dyett High School</td>\n",
              "        <td>62.50</td>\n",
              "    </tr>\n",
              "    <tr>\n",
              "        <td>Wendell Phillips Academy High School</td>\n",
              "        <td>63.00</td>\n",
              "    </tr>\n",
              "</table>"
            ]
          },
          "metadata": {},
          "execution_count": 26
        }
      ],
      "source": [
        "%sql SELECT Name_of_School, REPLACE(Average_Student_Attendance, '%', '') \\\n",
        "     from CHICAGO_PUBLIC_SCHOOLS_DATA \\\n",
        "     order by Average_Student_Attendance \\\n",
        "     LIMIT 5"
      ]
    },
    {
      "cell_type": "markdown",
      "metadata": {
        "id": "JqWAQ7C2Sr1C"
      },
      "source": [
        "### Problem 7\n",
        "\n",
        "##### Which Schools have Average Student Attendance lower than 70%?\n"
      ]
    },
    {
      "cell_type": "code",
      "execution_count": 25,
      "metadata": {
        "colab": {
          "base_uri": "https://localhost:8080/",
          "height": 242
        },
        "id": "2OMWFl5aSr1C",
        "outputId": "abeb9762-406a-43cd-ed67-1d7a3a8b7313"
      },
      "outputs": [
        {
          "output_type": "stream",
          "name": "stdout",
          "text": [
            " * sqlite:///RealWorldData.db\n",
            "Done.\n"
          ]
        },
        {
          "output_type": "execute_result",
          "data": {
            "text/plain": [
              "[('Richard T Crane Technical Preparatory High School', '57.90%'),\n",
              " ('Barbara Vick Early Childhood & Family Center', '60.90%'),\n",
              " ('Dyett High School', '62.50%'),\n",
              " ('Wendell Phillips Academy High School', '63.00%'),\n",
              " ('Orr Academy High School', '66.30%'),\n",
              " ('Manley Career Academy High School', '66.80%'),\n",
              " ('Chicago Vocational Career Academy High School', '68.80%'),\n",
              " ('Roberto Clemente Community Academy High School', '69.60%')]"
            ],
            "text/html": [
              "<table>\n",
              "    <tr>\n",
              "        <th>NAME_OF_SCHOOL</th>\n",
              "        <th>AVERAGE_STUDENT_ATTENDANCE</th>\n",
              "    </tr>\n",
              "    <tr>\n",
              "        <td>Richard T Crane Technical Preparatory High School</td>\n",
              "        <td>57.90%</td>\n",
              "    </tr>\n",
              "    <tr>\n",
              "        <td>Barbara Vick Early Childhood &amp; Family Center</td>\n",
              "        <td>60.90%</td>\n",
              "    </tr>\n",
              "    <tr>\n",
              "        <td>Dyett High School</td>\n",
              "        <td>62.50%</td>\n",
              "    </tr>\n",
              "    <tr>\n",
              "        <td>Wendell Phillips Academy High School</td>\n",
              "        <td>63.00%</td>\n",
              "    </tr>\n",
              "    <tr>\n",
              "        <td>Orr Academy High School</td>\n",
              "        <td>66.30%</td>\n",
              "    </tr>\n",
              "    <tr>\n",
              "        <td>Manley Career Academy High School</td>\n",
              "        <td>66.80%</td>\n",
              "    </tr>\n",
              "    <tr>\n",
              "        <td>Chicago Vocational Career Academy High School</td>\n",
              "        <td>68.80%</td>\n",
              "    </tr>\n",
              "    <tr>\n",
              "        <td>Roberto Clemente Community Academy High School</td>\n",
              "        <td>69.60%</td>\n",
              "    </tr>\n",
              "</table>"
            ]
          },
          "metadata": {},
          "execution_count": 25
        }
      ],
      "source": [
        "\n",
        "%sql SELECT Name_of_School, Average_Student_Attendance  \\\n",
        "     from CHICAGO_PUBLIC_SCHOOLS_DATA \\\n",
        "     where CAST ( REPLACE(Average_Student_Attendance, '%', '') AS DOUBLE ) < 70 \\\n",
        "     order by Average_Student_Attendance\n"
      ]
    },
    {
      "cell_type": "markdown",
      "metadata": {
        "id": "GAvTowPCSr1D"
      },
      "source": [
        "### Problem 8\n",
        "\n",
        "##### Get the total College Enrollment for each Community Area\n"
      ]
    },
    {
      "cell_type": "code",
      "execution_count": 24,
      "metadata": {
        "scrolled": true,
        "colab": {
          "base_uri": "https://localhost:8080/",
          "height": 1000
        },
        "id": "lMpx0hETSr1D",
        "outputId": "3ca4f1e1-c4a0-4514-c61e-df1bb2aca4a6"
      },
      "outputs": [
        {
          "output_type": "stream",
          "name": "stdout",
          "text": [
            " * sqlite:///RealWorldData.db\n",
            "Done.\n"
          ]
        },
        {
          "output_type": "execute_result",
          "data": {
            "text/plain": [
              "[('ALBANY PARK', 6864),\n",
              " ('ARCHER HEIGHTS', 4823),\n",
              " ('ARMOUR SQUARE', 1458),\n",
              " ('ASHBURN', 6483),\n",
              " ('AUBURN GRESHAM', 4175),\n",
              " ('AUSTIN', 10933),\n",
              " ('AVALON PARK', 1522),\n",
              " ('AVONDALE', 3640),\n",
              " ('BELMONT CRAGIN', 14386),\n",
              " ('BEVERLY', 1636),\n",
              " ('BRIDGEPORT', 3167),\n",
              " ('BRIGHTON PARK', 9647),\n",
              " ('BURNSIDE', 549),\n",
              " ('CALUMET HEIGHTS', 1568),\n",
              " ('CHATHAM', 5042),\n",
              " ('CHICAGO LAWN', 7086),\n",
              " ('CLEARING', 2085),\n",
              " ('DOUGLAS', 4670),\n",
              " ('DUNNING', 4568),\n",
              " ('EAST GARFIELD PARK', 5337),\n",
              " ('EAST SIDE', 5305),\n",
              " ('EDGEWATER', 4600),\n",
              " ('EDISON PARK', 910),\n",
              " ('ENGLEWOOD', 6832),\n",
              " ('FOREST GLEN', 1431),\n",
              " ('FULLER PARK', 531),\n",
              " ('GAGE PARK', 9915),\n",
              " ('GARFIELD RIDGE', 4552),\n",
              " ('GRAND BOULEVARD', 2809),\n",
              " ('GREATER GRAND CROSSING', 4051),\n",
              " ('HEGEWISCH', 963),\n",
              " ('HERMOSA', 3975),\n",
              " ('HUMBOLDT PARK', 8620),\n",
              " ('HYDE PARK', 1930),\n",
              " ('IRVING PARK', 7764),\n",
              " ('JEFFERSON PARK', 1755),\n",
              " ('KENWOOD', 4287),\n",
              " ('LAKE VIEW', 7055),\n",
              " ('LINCOLN PARK', 5615),\n",
              " ('LINCOLN SQUARE', 4132),\n",
              " ('LOGAN SQUARE', 7351),\n",
              " ('LOOP', 871),\n",
              " ('LOWER WEST SIDE', 7257),\n",
              " ('MCKINLEY PARK', 1552),\n",
              " ('MONTCLARE', 1317),\n",
              " ('MORGAN PARK', 3271),\n",
              " ('MOUNT GREENWOOD', 2091),\n",
              " ('NEAR NORTH SIDE', 3362),\n",
              " ('NEAR SOUTH SIDE', 1378),\n",
              " ('NEAR WEST SIDE', 7975),\n",
              " ('NEW CITY', 7922),\n",
              " ('NORTH CENTER', 7541),\n",
              " ('NORTH LAWNDALE', 5146),\n",
              " ('NORTH PARK', 4210),\n",
              " ('NORWOOD PARK', 6469),\n",
              " ('OAKLAND', 140),\n",
              " ('OHARE', 786),\n",
              " ('PORTAGE PARK', 6954),\n",
              " ('PULLMAN', 1620),\n",
              " ('RIVERDALE', 1547),\n",
              " ('ROGERS PARK', 4068),\n",
              " ('ROSELAND', 7020),\n",
              " ('SOUTH CHICAGO', 4043),\n",
              " ('SOUTH DEERING', 1859),\n",
              " ('SOUTH LAWNDALE', 14793),\n",
              " ('SOUTH SHORE', 4543),\n",
              " ('UPTOWN', 4388),\n",
              " ('WASHINGTON HEIGHTS', 4006),\n",
              " ('WASHINGTON PARK', 2648),\n",
              " ('WEST ELSDON', 3700),\n",
              " ('WEST ENGLEWOOD', 5946),\n",
              " ('WEST GARFIELD PARK', 2622),\n",
              " ('WEST LAWN', 4207),\n",
              " ('WEST PULLMAN', 3240),\n",
              " ('WEST RIDGE', 8197),\n",
              " ('WEST TOWN', 9429),\n",
              " ('WOODLAWN', 4206)]"
            ],
            "text/html": [
              "<table>\n",
              "    <tr>\n",
              "        <th>COMMUNITY_AREA_NAME</th>\n",
              "        <th>TOTAL_ENROLLMENT</th>\n",
              "    </tr>\n",
              "    <tr>\n",
              "        <td>ALBANY PARK</td>\n",
              "        <td>6864</td>\n",
              "    </tr>\n",
              "    <tr>\n",
              "        <td>ARCHER HEIGHTS</td>\n",
              "        <td>4823</td>\n",
              "    </tr>\n",
              "    <tr>\n",
              "        <td>ARMOUR SQUARE</td>\n",
              "        <td>1458</td>\n",
              "    </tr>\n",
              "    <tr>\n",
              "        <td>ASHBURN</td>\n",
              "        <td>6483</td>\n",
              "    </tr>\n",
              "    <tr>\n",
              "        <td>AUBURN GRESHAM</td>\n",
              "        <td>4175</td>\n",
              "    </tr>\n",
              "    <tr>\n",
              "        <td>AUSTIN</td>\n",
              "        <td>10933</td>\n",
              "    </tr>\n",
              "    <tr>\n",
              "        <td>AVALON PARK</td>\n",
              "        <td>1522</td>\n",
              "    </tr>\n",
              "    <tr>\n",
              "        <td>AVONDALE</td>\n",
              "        <td>3640</td>\n",
              "    </tr>\n",
              "    <tr>\n",
              "        <td>BELMONT CRAGIN</td>\n",
              "        <td>14386</td>\n",
              "    </tr>\n",
              "    <tr>\n",
              "        <td>BEVERLY</td>\n",
              "        <td>1636</td>\n",
              "    </tr>\n",
              "    <tr>\n",
              "        <td>BRIDGEPORT</td>\n",
              "        <td>3167</td>\n",
              "    </tr>\n",
              "    <tr>\n",
              "        <td>BRIGHTON PARK</td>\n",
              "        <td>9647</td>\n",
              "    </tr>\n",
              "    <tr>\n",
              "        <td>BURNSIDE</td>\n",
              "        <td>549</td>\n",
              "    </tr>\n",
              "    <tr>\n",
              "        <td>CALUMET HEIGHTS</td>\n",
              "        <td>1568</td>\n",
              "    </tr>\n",
              "    <tr>\n",
              "        <td>CHATHAM</td>\n",
              "        <td>5042</td>\n",
              "    </tr>\n",
              "    <tr>\n",
              "        <td>CHICAGO LAWN</td>\n",
              "        <td>7086</td>\n",
              "    </tr>\n",
              "    <tr>\n",
              "        <td>CLEARING</td>\n",
              "        <td>2085</td>\n",
              "    </tr>\n",
              "    <tr>\n",
              "        <td>DOUGLAS</td>\n",
              "        <td>4670</td>\n",
              "    </tr>\n",
              "    <tr>\n",
              "        <td>DUNNING</td>\n",
              "        <td>4568</td>\n",
              "    </tr>\n",
              "    <tr>\n",
              "        <td>EAST GARFIELD PARK</td>\n",
              "        <td>5337</td>\n",
              "    </tr>\n",
              "    <tr>\n",
              "        <td>EAST SIDE</td>\n",
              "        <td>5305</td>\n",
              "    </tr>\n",
              "    <tr>\n",
              "        <td>EDGEWATER</td>\n",
              "        <td>4600</td>\n",
              "    </tr>\n",
              "    <tr>\n",
              "        <td>EDISON PARK</td>\n",
              "        <td>910</td>\n",
              "    </tr>\n",
              "    <tr>\n",
              "        <td>ENGLEWOOD</td>\n",
              "        <td>6832</td>\n",
              "    </tr>\n",
              "    <tr>\n",
              "        <td>FOREST GLEN</td>\n",
              "        <td>1431</td>\n",
              "    </tr>\n",
              "    <tr>\n",
              "        <td>FULLER PARK</td>\n",
              "        <td>531</td>\n",
              "    </tr>\n",
              "    <tr>\n",
              "        <td>GAGE PARK</td>\n",
              "        <td>9915</td>\n",
              "    </tr>\n",
              "    <tr>\n",
              "        <td>GARFIELD RIDGE</td>\n",
              "        <td>4552</td>\n",
              "    </tr>\n",
              "    <tr>\n",
              "        <td>GRAND BOULEVARD</td>\n",
              "        <td>2809</td>\n",
              "    </tr>\n",
              "    <tr>\n",
              "        <td>GREATER GRAND CROSSING</td>\n",
              "        <td>4051</td>\n",
              "    </tr>\n",
              "    <tr>\n",
              "        <td>HEGEWISCH</td>\n",
              "        <td>963</td>\n",
              "    </tr>\n",
              "    <tr>\n",
              "        <td>HERMOSA</td>\n",
              "        <td>3975</td>\n",
              "    </tr>\n",
              "    <tr>\n",
              "        <td>HUMBOLDT PARK</td>\n",
              "        <td>8620</td>\n",
              "    </tr>\n",
              "    <tr>\n",
              "        <td>HYDE PARK</td>\n",
              "        <td>1930</td>\n",
              "    </tr>\n",
              "    <tr>\n",
              "        <td>IRVING PARK</td>\n",
              "        <td>7764</td>\n",
              "    </tr>\n",
              "    <tr>\n",
              "        <td>JEFFERSON PARK</td>\n",
              "        <td>1755</td>\n",
              "    </tr>\n",
              "    <tr>\n",
              "        <td>KENWOOD</td>\n",
              "        <td>4287</td>\n",
              "    </tr>\n",
              "    <tr>\n",
              "        <td>LAKE VIEW</td>\n",
              "        <td>7055</td>\n",
              "    </tr>\n",
              "    <tr>\n",
              "        <td>LINCOLN PARK</td>\n",
              "        <td>5615</td>\n",
              "    </tr>\n",
              "    <tr>\n",
              "        <td>LINCOLN SQUARE</td>\n",
              "        <td>4132</td>\n",
              "    </tr>\n",
              "    <tr>\n",
              "        <td>LOGAN SQUARE</td>\n",
              "        <td>7351</td>\n",
              "    </tr>\n",
              "    <tr>\n",
              "        <td>LOOP</td>\n",
              "        <td>871</td>\n",
              "    </tr>\n",
              "    <tr>\n",
              "        <td>LOWER WEST SIDE</td>\n",
              "        <td>7257</td>\n",
              "    </tr>\n",
              "    <tr>\n",
              "        <td>MCKINLEY PARK</td>\n",
              "        <td>1552</td>\n",
              "    </tr>\n",
              "    <tr>\n",
              "        <td>MONTCLARE</td>\n",
              "        <td>1317</td>\n",
              "    </tr>\n",
              "    <tr>\n",
              "        <td>MORGAN PARK</td>\n",
              "        <td>3271</td>\n",
              "    </tr>\n",
              "    <tr>\n",
              "        <td>MOUNT GREENWOOD</td>\n",
              "        <td>2091</td>\n",
              "    </tr>\n",
              "    <tr>\n",
              "        <td>NEAR NORTH SIDE</td>\n",
              "        <td>3362</td>\n",
              "    </tr>\n",
              "    <tr>\n",
              "        <td>NEAR SOUTH SIDE</td>\n",
              "        <td>1378</td>\n",
              "    </tr>\n",
              "    <tr>\n",
              "        <td>NEAR WEST SIDE</td>\n",
              "        <td>7975</td>\n",
              "    </tr>\n",
              "    <tr>\n",
              "        <td>NEW CITY</td>\n",
              "        <td>7922</td>\n",
              "    </tr>\n",
              "    <tr>\n",
              "        <td>NORTH CENTER</td>\n",
              "        <td>7541</td>\n",
              "    </tr>\n",
              "    <tr>\n",
              "        <td>NORTH LAWNDALE</td>\n",
              "        <td>5146</td>\n",
              "    </tr>\n",
              "    <tr>\n",
              "        <td>NORTH PARK</td>\n",
              "        <td>4210</td>\n",
              "    </tr>\n",
              "    <tr>\n",
              "        <td>NORWOOD PARK</td>\n",
              "        <td>6469</td>\n",
              "    </tr>\n",
              "    <tr>\n",
              "        <td>OAKLAND</td>\n",
              "        <td>140</td>\n",
              "    </tr>\n",
              "    <tr>\n",
              "        <td>OHARE</td>\n",
              "        <td>786</td>\n",
              "    </tr>\n",
              "    <tr>\n",
              "        <td>PORTAGE PARK</td>\n",
              "        <td>6954</td>\n",
              "    </tr>\n",
              "    <tr>\n",
              "        <td>PULLMAN</td>\n",
              "        <td>1620</td>\n",
              "    </tr>\n",
              "    <tr>\n",
              "        <td>RIVERDALE</td>\n",
              "        <td>1547</td>\n",
              "    </tr>\n",
              "    <tr>\n",
              "        <td>ROGERS PARK</td>\n",
              "        <td>4068</td>\n",
              "    </tr>\n",
              "    <tr>\n",
              "        <td>ROSELAND</td>\n",
              "        <td>7020</td>\n",
              "    </tr>\n",
              "    <tr>\n",
              "        <td>SOUTH CHICAGO</td>\n",
              "        <td>4043</td>\n",
              "    </tr>\n",
              "    <tr>\n",
              "        <td>SOUTH DEERING</td>\n",
              "        <td>1859</td>\n",
              "    </tr>\n",
              "    <tr>\n",
              "        <td>SOUTH LAWNDALE</td>\n",
              "        <td>14793</td>\n",
              "    </tr>\n",
              "    <tr>\n",
              "        <td>SOUTH SHORE</td>\n",
              "        <td>4543</td>\n",
              "    </tr>\n",
              "    <tr>\n",
              "        <td>UPTOWN</td>\n",
              "        <td>4388</td>\n",
              "    </tr>\n",
              "    <tr>\n",
              "        <td>WASHINGTON HEIGHTS</td>\n",
              "        <td>4006</td>\n",
              "    </tr>\n",
              "    <tr>\n",
              "        <td>WASHINGTON PARK</td>\n",
              "        <td>2648</td>\n",
              "    </tr>\n",
              "    <tr>\n",
              "        <td>WEST ELSDON</td>\n",
              "        <td>3700</td>\n",
              "    </tr>\n",
              "    <tr>\n",
              "        <td>WEST ENGLEWOOD</td>\n",
              "        <td>5946</td>\n",
              "    </tr>\n",
              "    <tr>\n",
              "        <td>WEST GARFIELD PARK</td>\n",
              "        <td>2622</td>\n",
              "    </tr>\n",
              "    <tr>\n",
              "        <td>WEST LAWN</td>\n",
              "        <td>4207</td>\n",
              "    </tr>\n",
              "    <tr>\n",
              "        <td>WEST PULLMAN</td>\n",
              "        <td>3240</td>\n",
              "    </tr>\n",
              "    <tr>\n",
              "        <td>WEST RIDGE</td>\n",
              "        <td>8197</td>\n",
              "    </tr>\n",
              "    <tr>\n",
              "        <td>WEST TOWN</td>\n",
              "        <td>9429</td>\n",
              "    </tr>\n",
              "    <tr>\n",
              "        <td>WOODLAWN</td>\n",
              "        <td>4206</td>\n",
              "    </tr>\n",
              "</table>"
            ]
          },
          "metadata": {},
          "execution_count": 24
        }
      ],
      "source": [
        "%sql select Community_Area_Name, sum(College_Enrollment) AS TOTAL_ENROLLMENT \\\n",
        "   from CHICAGO_PUBLIC_SCHOOLS_DATA \\\n",
        "   group by Community_Area_Name"
      ]
    },
    {
      "cell_type": "markdown",
      "metadata": {
        "id": "uVmMmmh5Sr1E"
      },
      "source": [
        "### Problem 9\n",
        "\n",
        "##### Get the 5 Community Areas with the least total College Enrollment  sorted in ascending order\n"
      ]
    },
    {
      "cell_type": "code",
      "execution_count": 23,
      "metadata": {
        "colab": {
          "base_uri": "https://localhost:8080/",
          "height": 179
        },
        "id": "-6oPLWpkSr1E",
        "outputId": "5bd71594-c809-44ca-8326-2241d18132d2"
      },
      "outputs": [
        {
          "output_type": "stream",
          "name": "stdout",
          "text": [
            " * sqlite:///RealWorldData.db\n",
            "Done.\n"
          ]
        },
        {
          "output_type": "execute_result",
          "data": {
            "text/plain": [
              "[('OAKLAND', 140),\n",
              " ('FULLER PARK', 531),\n",
              " ('BURNSIDE', 549),\n",
              " ('OHARE', 786),\n",
              " ('LOOP', 871)]"
            ],
            "text/html": [
              "<table>\n",
              "    <tr>\n",
              "        <th>COMMUNITY_AREA_NAME</th>\n",
              "        <th>TOTAL_ENROLLMENT</th>\n",
              "    </tr>\n",
              "    <tr>\n",
              "        <td>OAKLAND</td>\n",
              "        <td>140</td>\n",
              "    </tr>\n",
              "    <tr>\n",
              "        <td>FULLER PARK</td>\n",
              "        <td>531</td>\n",
              "    </tr>\n",
              "    <tr>\n",
              "        <td>BURNSIDE</td>\n",
              "        <td>549</td>\n",
              "    </tr>\n",
              "    <tr>\n",
              "        <td>OHARE</td>\n",
              "        <td>786</td>\n",
              "    </tr>\n",
              "    <tr>\n",
              "        <td>LOOP</td>\n",
              "        <td>871</td>\n",
              "    </tr>\n",
              "</table>"
            ]
          },
          "metadata": {},
          "execution_count": 23
        }
      ],
      "source": [
        "%sql select Community_Area_Name, sum(College_Enrollment) AS TOTAL_ENROLLMENT \\\n",
        "   from CHICAGO_PUBLIC_SCHOOLS_DATA \\\n",
        "   group by Community_Area_Name \\\n",
        "   order by TOTAL_ENROLLMENT asc \\\n",
        "   LIMIT 5"
      ]
    },
    {
      "cell_type": "markdown",
      "metadata": {
        "id": "MdcsJpEeSr1F"
      },
      "source": [
        "### Problem 10\n",
        "\n",
        "##### List 5 schools with lowest safety score.\n"
      ]
    },
    {
      "cell_type": "code",
      "execution_count": 22,
      "metadata": {
        "colab": {
          "base_uri": "https://localhost:8080/",
          "height": 179
        },
        "id": "QAl3PcBwSr1F",
        "outputId": "a6d339bc-b203-404d-d1de-4d2c83c54762"
      },
      "outputs": [
        {
          "output_type": "stream",
          "name": "stdout",
          "text": [
            " * sqlite:///RealWorldData.db\n",
            "Done.\n"
          ]
        },
        {
          "output_type": "execute_result",
          "data": {
            "text/plain": [
              "[('Edmond Burke Elementary School', 1.0),\n",
              " (\"Luke O'Toole Elementary School\", 5.0),\n",
              " ('George W Tilton Elementary School', 6.0),\n",
              " ('Foster Park Elementary School', 11.0),\n",
              " ('Emil G Hirsch Metropolitan High School', 13.0)]"
            ],
            "text/html": [
              "<table>\n",
              "    <tr>\n",
              "        <th>NAME_OF_SCHOOL</th>\n",
              "        <th>SAFETY_SCORE</th>\n",
              "    </tr>\n",
              "    <tr>\n",
              "        <td>Edmond Burke Elementary School</td>\n",
              "        <td>1.0</td>\n",
              "    </tr>\n",
              "    <tr>\n",
              "        <td>Luke O&#x27;Toole Elementary School</td>\n",
              "        <td>5.0</td>\n",
              "    </tr>\n",
              "    <tr>\n",
              "        <td>George W Tilton Elementary School</td>\n",
              "        <td>6.0</td>\n",
              "    </tr>\n",
              "    <tr>\n",
              "        <td>Foster Park Elementary School</td>\n",
              "        <td>11.0</td>\n",
              "    </tr>\n",
              "    <tr>\n",
              "        <td>Emil G Hirsch Metropolitan High School</td>\n",
              "        <td>13.0</td>\n",
              "    </tr>\n",
              "</table>"
            ]
          },
          "metadata": {},
          "execution_count": 22
        }
      ],
      "source": [
        "%sql SELECT name_of_school, safety_score \\\n",
        "FROM CHICAGO_PUBLIC_SCHOOLS_DATA  where safety_score !='None' \\\n",
        "ORDER BY safety_score \\\n",
        "LIMIT 5"
      ]
    },
    {
      "cell_type": "markdown",
      "metadata": {
        "id": "iJzNTP1HSr1F"
      },
      "source": [
        "## Summary\n",
        "\n",
        "##### In this lab you learned how to work with a real word dataset using SQL and Python. You learned how to query columns with spaces or special characters in their names and with mixed case names. You also used built in database functions and practiced how to sort, limit, and order result sets, as well as used sub-queries and worked with multiple tables.\n"
      ]
    }
  ],
  "metadata": {
    "kernelspec": {
      "display_name": "Python 3 (ipykernel)",
      "language": "python",
      "name": "python3"
    },
    "language_info": {
      "codemirror_mode": {
        "name": "ipython",
        "version": 3
      },
      "file_extension": ".py",
      "mimetype": "text/x-python",
      "name": "python",
      "nbconvert_exporter": "python",
      "pygments_lexer": "ipython3",
      "version": "3.9.12"
    },
    "colab": {
      "provenance": []
    }
  },
  "nbformat": 4,
  "nbformat_minor": 0
}